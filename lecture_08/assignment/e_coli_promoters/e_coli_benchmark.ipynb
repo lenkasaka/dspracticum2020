{
  "nbformat": 4,
  "nbformat_minor": 0,
  "metadata": {
    "colab": {
      "name": "SimpleGenomicNN.ipynb",
      "provenance": [],
      "collapsed_sections": [],
      "authorship_tag": "ABX9TyO/mRWbVtEjZ/hDC0xPM47l",
      "include_colab_link": true
    },
    "kernelspec": {
      "name": "python3",
      "display_name": "Python 3"
    },
    "accelerator": "GPU"
  },
  "cells": [
    {
      "cell_type": "markdown",
      "metadata": {
        "id": "view-in-github",
        "colab_type": "text"
      },
      "source": [
        "<a href=\"https://colab.research.google.com/github/simecek/dspracticum2020/blob/master/lecture_08/assignment/e_coli_promoters/e_coli_benchmark.ipynb\" target=\"_parent\"><img src=\"https://colab.research.google.com/assets/colab-badge.svg\" alt=\"Open In Colab\"/></a>"
      ]
    },
    {
      "cell_type": "markdown",
      "metadata": {
        "id": "HY8XHFTZg4X2"
      },
      "source": [
        "## Setup"
      ]
    },
    {
      "cell_type": "code",
      "metadata": {
        "id": "pQf-lv2qMxC-",
        "colab": {
          "base_uri": "https://localhost:8080/"
        },
        "outputId": "7ff2cd83-2ec0-4c7a-9a9b-734b117ad1a0"
      },
      "source": [
        "!pip install biopython"
      ],
      "execution_count": 1,
      "outputs": [
        {
          "output_type": "stream",
          "text": [
            "Collecting biopython\n",
            "\u001b[?25l  Downloading https://files.pythonhosted.org/packages/76/02/8b606c4aa92ff61b5eda71d23b499ab1de57d5e818be33f77b01a6f435a8/biopython-1.78-cp36-cp36m-manylinux1_x86_64.whl (2.3MB)\n",
            "\u001b[K     |████████████████████████████████| 2.3MB 13.6MB/s \n",
            "\u001b[?25hRequirement already satisfied: numpy in /usr/local/lib/python3.6/dist-packages (from biopython) (1.18.5)\n",
            "Installing collected packages: biopython\n",
            "Successfully installed biopython-1.78\n"
          ],
          "name": "stdout"
        }
      ]
    },
    {
      "cell_type": "code",
      "metadata": {
        "id": "0xTRv9r1JkcV"
      },
      "source": [
        "import urllib.request\n",
        "from pathlib import Path\n",
        "from Bio import SeqIO\n",
        "import numpy as np\n",
        "\n",
        "import tensorflow as tf\n",
        "from tensorflow import keras\n",
        "from tensorflow.keras.layers.experimental.preprocessing import TextVectorization"
      ],
      "execution_count": 2,
      "outputs": []
    },
    {
      "cell_type": "markdown",
      "metadata": {
        "id": "KQDZyunCg8xk"
      },
      "source": [
        "## Reshaping data from fasta to txt"
      ]
    },
    {
      "cell_type": "code",
      "metadata": {
        "id": "FuQYtHAVJ3wa"
      },
      "source": [
        "classes = ['nonpromoters', 'promoters']\n",
        "sets = ['train', 'valid']\n",
        "\n",
        "for c in classes:\n",
        "    for s in sets:\n",
        "        urllib.request.urlretrieve(f\"https://raw.githubusercontent.com/simecek/dspracticum2020/master/lecture_08/assignment/e_coli_promoters/e_coli_{c}_{s}.fa\", f\"e_coli_{c}_{s}.fa\")"
      ],
      "execution_count": 3,
      "outputs": []
    },
    {
      "cell_type": "code",
      "metadata": {
        "id": "uDYvcC64KBQo"
      },
      "source": [
        "for c in classes:\n",
        "    for s in sets:\n",
        "        Path(f\"data/{s}/{c}\").mkdir(parents=True, exist_ok=True)"
      ],
      "execution_count": 4,
      "outputs": []
    },
    {
      "cell_type": "code",
      "metadata": {
        "id": "-XVwjaUVKvnU"
      },
      "source": [
        "for c in classes:\n",
        "    for s in sets:\n",
        "        with open(f\"e_coli_{c}_{s}.fa\", \"r\") as fr:\n",
        "            for record in SeqIO.parse(fr, \"fasta\"):\n",
        "                id = record.id\n",
        "                with open(f\"data/{s}/{c}/{id}.txt\", \"w\") as fw:\n",
        "                    fw.writelines([\" \".join(str(record.seq))])\n"
      ],
      "execution_count": 5,
      "outputs": []
    },
    {
      "cell_type": "markdown",
      "metadata": {
        "id": "jwWqL9UVhHRp"
      },
      "source": [
        "## Reading data"
      ]
    },
    {
      "cell_type": "code",
      "metadata": {
        "id": "0QhJiddxQjnh",
        "colab": {
          "base_uri": "https://localhost:8080/"
        },
        "outputId": "c07eeaf6-bcae-4051-8051-ff55dc812b91"
      },
      "source": [
        "batch_size = 128\n",
        "\n",
        "raw_train_ds = tf.keras.preprocessing.text_dataset_from_directory(\n",
        "    'data/train/',\n",
        "    batch_size=batch_size,\n",
        "    class_names=classes)"
      ],
      "execution_count": 6,
      "outputs": [
        {
          "output_type": "stream",
          "text": [
            "Found 6791 files belonging to 2 classes.\n"
          ],
          "name": "stdout"
        }
      ]
    },
    {
      "cell_type": "code",
      "metadata": {
        "colab": {
          "base_uri": "https://localhost:8080/"
        },
        "id": "JQ15xyPEgIkd",
        "outputId": "07185fda-fd51-440d-8abc-7d74ae374bab"
      },
      "source": [
        "raw_valid_ds = tf.keras.preprocessing.text_dataset_from_directory(\n",
        "    'data/valid/',\n",
        "    batch_size=batch_size,\n",
        "    class_names=classes)"
      ],
      "execution_count": 7,
      "outputs": [
        {
          "output_type": "stream",
          "text": [
            "Found 750 files belonging to 2 classes.\n"
          ],
          "name": "stdout"
        }
      ]
    },
    {
      "cell_type": "code",
      "metadata": {
        "id": "krNrCcl-Q2JH"
      },
      "source": [
        "vectorize_layer = TextVectorization(output_mode='int')\n",
        "\n",
        "train_text = raw_train_ds.map(lambda x, y: x)\n",
        "vectorize_layer.adapt(train_text)\n",
        "vectorize_layer.set_vocabulary(vocab=np.asarray(['a', 'c', 't', 'g', 'n']))"
      ],
      "execution_count": 8,
      "outputs": []
    },
    {
      "cell_type": "code",
      "metadata": {
        "id": "MlJsjlxlSJ8a"
      },
      "source": [
        "def vectorize_text(text, label):\n",
        "  text = tf.expand_dims(text, -1)\n",
        "  return vectorize_layer(text)-2, label\n",
        "\n",
        "train_ds = raw_train_ds.map(vectorize_text)\n",
        "valid_ds = raw_valid_ds.map(vectorize_text)"
      ],
      "execution_count": 9,
      "outputs": []
    },
    {
      "cell_type": "markdown",
      "metadata": {
        "id": "eMEDEoL_h5RD"
      },
      "source": [
        "## Model training"
      ]
    },
    {
      "cell_type": "code",
      "metadata": {
        "id": "m5P0A9wVbQl2"
      },
      "source": [
        "# one-hot encoding\n",
        "onehot_layer = keras.layers.Lambda(lambda x: tf.one_hot(tf.cast(x,'int64'), 4))"
      ],
      "execution_count": 10,
      "outputs": []
    },
    {
      "cell_type": "code",
      "metadata": {
        "id": "o4ROY6c-gCkJ"
      },
      "source": [
        "model_lstm = tf.keras.Sequential([\n",
        "    onehot_layer,\n",
        "    keras.layers.LSTM(128, return_sequences=True),\n",
        "    keras.layers.LSTM(128, return_sequences=False),\n",
        "    keras.layers.Dense(1, activation=\"sigmoid\")]) \n",
        "\n",
        "model_lstm.compile(loss='binary_crossentropy', optimizer='adam', metrics=['accuracy'])  "
      ],
      "execution_count": 14,
      "outputs": []
    },
    {
      "cell_type": "code",
      "metadata": {
        "id": "V9zwVFetgXIL",
        "outputId": "bb5222f2-d496-4aa9-a6d9-9739a2ee845b",
        "colab": {
          "base_uri": "https://localhost:8080/"
        }
      },
      "source": [
        "epochs = 10\n",
        "history = model_lstm.fit(\n",
        "    train_ds,\n",
        "    epochs=epochs,\n",
        "    validation_data = valid_ds)"
      ],
      "execution_count": 15,
      "outputs": [
        {
          "output_type": "stream",
          "text": [
            "Epoch 1/10\n",
            "54/54 [==============================] - 3s 62ms/step - loss: 0.5915 - accuracy: 0.6768 - val_loss: 0.5393 - val_accuracy: 0.7347\n",
            "Epoch 2/10\n",
            "54/54 [==============================] - 3s 51ms/step - loss: 0.4960 - accuracy: 0.7659 - val_loss: 0.4588 - val_accuracy: 0.7840\n",
            "Epoch 3/10\n",
            "54/54 [==============================] - 3s 52ms/step - loss: 0.4737 - accuracy: 0.7788 - val_loss: 0.4996 - val_accuracy: 0.7680\n",
            "Epoch 4/10\n",
            "54/54 [==============================] - 3s 51ms/step - loss: 0.4452 - accuracy: 0.7989 - val_loss: 0.4251 - val_accuracy: 0.8120\n",
            "Epoch 5/10\n",
            "54/54 [==============================] - 3s 51ms/step - loss: 0.4389 - accuracy: 0.8080 - val_loss: 0.4261 - val_accuracy: 0.8147\n",
            "Epoch 6/10\n",
            "54/54 [==============================] - 3s 50ms/step - loss: 0.4136 - accuracy: 0.8192 - val_loss: 0.3993 - val_accuracy: 0.8320\n",
            "Epoch 7/10\n",
            "54/54 [==============================] - 3s 52ms/step - loss: 0.4138 - accuracy: 0.8193 - val_loss: 0.4129 - val_accuracy: 0.8173\n",
            "Epoch 8/10\n",
            "54/54 [==============================] - 3s 51ms/step - loss: 0.4018 - accuracy: 0.8248 - val_loss: 0.4035 - val_accuracy: 0.8227\n",
            "Epoch 9/10\n",
            "54/54 [==============================] - 3s 50ms/step - loss: 0.3776 - accuracy: 0.8352 - val_loss: 0.3516 - val_accuracy: 0.8520\n",
            "Epoch 10/10\n",
            "54/54 [==============================] - 3s 51ms/step - loss: 0.3709 - accuracy: 0.8410 - val_loss: 0.3284 - val_accuracy: 0.8680\n"
          ],
          "name": "stdout"
        }
      ]
    },
    {
      "cell_type": "code",
      "metadata": {
        "id": "qWEUcqBXcecr"
      },
      "source": [
        "model_cnn = tf.keras.Sequential([\n",
        "    onehot_layer,\n",
        "    keras.layers.Conv1D(32, kernel_size=6, data_format='channels_last', activation='relu'),\n",
        "    keras.layers.BatchNormalization(),\n",
        "    keras.layers.MaxPooling1D(),\n",
        "    keras.layers.Conv1D(16, kernel_size=6, data_format='channels_last', activation='relu'),\n",
        "    keras.layers.BatchNormalization(),\n",
        "    keras.layers.MaxPooling1D(),\n",
        "    keras.layers.Conv1D(4, kernel_size=6, data_format='channels_last', activation='relu'),\n",
        "    keras.layers.BatchNormalization(),\n",
        "    keras.layers.MaxPooling1D(),\n",
        "    keras.layers.Dropout(0.3),\n",
        "    keras.layers.GlobalAveragePooling1D(),\n",
        "    keras.layers.Dense(1, activation=\"sigmoid\")\n",
        "])\n",
        "\n",
        "model_cnn.compile(loss='binary_crossentropy', optimizer='adam', metrics=['accuracy'])"
      ],
      "execution_count": 22,
      "outputs": []
    },
    {
      "cell_type": "code",
      "metadata": {
        "id": "J86X_OH-dUV2",
        "colab": {
          "base_uri": "https://localhost:8080/"
        },
        "outputId": "1ee07bea-ffac-45c6-8c18-ee72ec0ae5fb"
      },
      "source": [
        "history = model_cnn.fit(\n",
        "    train_ds,\n",
        "    epochs=epochs,\n",
        "    validation_data = valid_ds)"
      ],
      "execution_count": 23,
      "outputs": [
        {
          "output_type": "stream",
          "text": [
            "Epoch 1/10\n",
            "54/54 [==============================] - 2s 39ms/step - loss: 0.5969 - accuracy: 0.6974 - val_loss: 0.6737 - val_accuracy: 0.5347\n",
            "Epoch 2/10\n",
            "54/54 [==============================] - 2s 35ms/step - loss: 0.5224 - accuracy: 0.7682 - val_loss: 0.5926 - val_accuracy: 0.7040\n",
            "Epoch 3/10\n",
            "54/54 [==============================] - 2s 35ms/step - loss: 0.4823 - accuracy: 0.7965 - val_loss: 0.6369 - val_accuracy: 0.5693\n",
            "Epoch 4/10\n",
            "54/54 [==============================] - 2s 35ms/step - loss: 0.4203 - accuracy: 0.8379 - val_loss: 0.7594 - val_accuracy: 0.5000\n",
            "Epoch 5/10\n",
            "54/54 [==============================] - 2s 36ms/step - loss: 0.3600 - accuracy: 0.8717 - val_loss: 0.6618 - val_accuracy: 0.5467\n",
            "Epoch 6/10\n",
            "54/54 [==============================] - 2s 38ms/step - loss: 0.3082 - accuracy: 0.8969 - val_loss: 0.5251 - val_accuracy: 0.6987\n",
            "Epoch 7/10\n",
            "54/54 [==============================] - 2s 37ms/step - loss: 0.2727 - accuracy: 0.9094 - val_loss: 0.4243 - val_accuracy: 0.8027\n",
            "Epoch 8/10\n",
            "54/54 [==============================] - 2s 38ms/step - loss: 0.2400 - accuracy: 0.9174 - val_loss: 0.3377 - val_accuracy: 0.8800\n",
            "Epoch 9/10\n",
            "54/54 [==============================] - 2s 37ms/step - loss: 0.2256 - accuracy: 0.9233 - val_loss: 0.2880 - val_accuracy: 0.9027\n",
            "Epoch 10/10\n",
            "54/54 [==============================] - 2s 36ms/step - loss: 0.2054 - accuracy: 0.9290 - val_loss: 0.2764 - val_accuracy: 0.9013\n"
          ],
          "name": "stdout"
        }
      ]
    },
    {
      "cell_type": "code",
      "metadata": {
        "id": "i1QTC20Dg46l"
      },
      "source": [
        ""
      ],
      "execution_count": null,
      "outputs": []
    }
  ]
}