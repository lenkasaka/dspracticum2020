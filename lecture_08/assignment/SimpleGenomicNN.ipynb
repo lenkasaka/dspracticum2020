{
  "nbformat": 4,
  "nbformat_minor": 0,
  "metadata": {
    "colab": {
      "name": "SimpleGenomicNN.ipynb",
      "provenance": [],
      "collapsed_sections": [],
      "authorship_tag": "ABX9TyN3xwkZq4tk+BTjFQTowSiu",
      "include_colab_link": true
    },
    "kernelspec": {
      "name": "python3",
      "display_name": "Python 3"
    },
    "accelerator": "GPU"
  },
  "cells": [
    {
      "cell_type": "markdown",
      "metadata": {
        "id": "view-in-github",
        "colab_type": "text"
      },
      "source": [
        "<a href=\"https://colab.research.google.com/github/simecek/dspracticum2020/blob/master/lecture_08/assignment/SimpleGenomicNN.ipynb\" target=\"_parent\"><img src=\"https://colab.research.google.com/assets/colab-badge.svg\" alt=\"Open In Colab\"/></a>"
      ]
    },
    {
      "cell_type": "markdown",
      "metadata": {
        "id": "HY8XHFTZg4X2"
      },
      "source": [
        "## Setup"
      ]
    },
    {
      "cell_type": "code",
      "metadata": {
        "id": "pQf-lv2qMxC-",
        "colab": {
          "base_uri": "https://localhost:8080/"
        },
        "outputId": "1456107d-8833-4faa-ea78-a172a4b76084"
      },
      "source": [
        "!pip install biopython"
      ],
      "execution_count": 1,
      "outputs": [
        {
          "output_type": "stream",
          "text": [
            "Collecting biopython\n",
            "\u001b[?25l  Downloading https://files.pythonhosted.org/packages/76/02/8b606c4aa92ff61b5eda71d23b499ab1de57d5e818be33f77b01a6f435a8/biopython-1.78-cp36-cp36m-manylinux1_x86_64.whl (2.3MB)\n",
            "\u001b[K     |████████████████████████████████| 2.3MB 9.4MB/s \n",
            "\u001b[?25hRequirement already satisfied: numpy in /usr/local/lib/python3.6/dist-packages (from biopython) (1.18.5)\n",
            "Installing collected packages: biopython\n",
            "Successfully installed biopython-1.78\n"
          ],
          "name": "stdout"
        }
      ]
    },
    {
      "cell_type": "code",
      "metadata": {
        "id": "0xTRv9r1JkcV"
      },
      "source": [
        "import urllib.request\n",
        "from pathlib import Path\n",
        "from Bio import SeqIO\n",
        "import numpy as np\n",
        "\n",
        "import tensorflow as tf\n",
        "from tensorflow import keras\n",
        "from tensorflow.keras.layers.experimental.preprocessing import TextVectorization"
      ],
      "execution_count": 2,
      "outputs": []
    },
    {
      "cell_type": "markdown",
      "metadata": {
        "id": "KQDZyunCg8xk"
      },
      "source": [
        "## Reshaping data from fasta to txt"
      ]
    },
    {
      "cell_type": "code",
      "metadata": {
        "id": "FuQYtHAVJ3wa"
      },
      "source": [
        "classes = ['nonpromoters', 'promoters']\n",
        "sets = ['train', 'valid', 'test']\n",
        "\n",
        "for c in classes:\n",
        "    for s in sets:\n",
        "        urllib.request.urlretrieve(f\"https://raw.githubusercontent.com/katarinagresova/benchmarks/main/ecoli_promoters/e_coli_{c}_{s}.fa\", f\"e_coli_{c}_{s}.fa\")"
      ],
      "execution_count": 3,
      "outputs": []
    },
    {
      "cell_type": "code",
      "metadata": {
        "id": "uDYvcC64KBQo"
      },
      "source": [
        "for c in classes:\n",
        "    for s in sets:\n",
        "        Path(f\"data/{s}/{c}\").mkdir(parents=True, exist_ok=True)"
      ],
      "execution_count": 4,
      "outputs": []
    },
    {
      "cell_type": "code",
      "metadata": {
        "id": "-XVwjaUVKvnU"
      },
      "source": [
        "for c in classes:\n",
        "    for s in sets:\n",
        "        with open(f\"e_coli_{c}_{s}.fa\", \"r\") as fr:\n",
        "            for record in SeqIO.parse(fr, \"fasta\"):\n",
        "                id = record.id\n",
        "                with open(f\"data/{s}/{c}/{id}.txt\", \"w\") as fw:\n",
        "                    fw.writelines([\" \".join(str(record.seq))])\n"
      ],
      "execution_count": 5,
      "outputs": []
    },
    {
      "cell_type": "markdown",
      "metadata": {
        "id": "jwWqL9UVhHRp"
      },
      "source": [
        "## Reading data"
      ]
    },
    {
      "cell_type": "code",
      "metadata": {
        "id": "0QhJiddxQjnh",
        "colab": {
          "base_uri": "https://localhost:8080/"
        },
        "outputId": "9d0c11c1-3021-4a1c-a64a-c2dc680b9ed6"
      },
      "source": [
        "batch_size = 64\n",
        "\n",
        "raw_train_ds = tf.keras.preprocessing.text_dataset_from_directory(\n",
        "    'data/train/',\n",
        "    batch_size=batch_size,\n",
        "    class_names=classes)"
      ],
      "execution_count": 6,
      "outputs": [
        {
          "output_type": "stream",
          "text": [
            "Found 6791 files belonging to 2 classes.\n"
          ],
          "name": "stdout"
        }
      ]
    },
    {
      "cell_type": "code",
      "metadata": {
        "colab": {
          "base_uri": "https://localhost:8080/"
        },
        "id": "JQ15xyPEgIkd",
        "outputId": "4223877a-2312-4fb0-f51e-c77c56fa83d7"
      },
      "source": [
        "raw_valid_ds = tf.keras.preprocessing.text_dataset_from_directory(\n",
        "    'data/valid/',\n",
        "    batch_size=batch_size,\n",
        "    class_names=classes)\n",
        "\n",
        "raw_test_ds = tf.keras.preprocessing.text_dataset_from_directory(\n",
        "    'data/test/',\n",
        "    batch_size=batch_size,\n",
        "    class_names=classes)"
      ],
      "execution_count": 7,
      "outputs": [
        {
          "output_type": "stream",
          "text": [
            "Found 750 files belonging to 2 classes.\n",
            "Found 830 files belonging to 2 classes.\n"
          ],
          "name": "stdout"
        }
      ]
    },
    {
      "cell_type": "code",
      "metadata": {
        "colab": {
          "base_uri": "https://localhost:8080/"
        },
        "id": "qMvxrbpldXL5",
        "outputId": "3a490c95-5fe2-41e6-ae9b-1140e018797d"
      },
      "source": [
        "text_batch, label_batch = next(iter(raw_train_ds))\n",
        "text_batch[0], label_batch[0]"
      ],
      "execution_count": 8,
      "outputs": [
        {
          "output_type": "execute_result",
          "data": {
            "text/plain": [
              "(<tf.Tensor: shape=(), dtype=string, numpy=b'G G G A T C A C C G C C T T C T T G T C G G T G G C G A T A T T A T T G T C T T T G C T G A T C T T T A T T G G T G A A G C C G T C C G C G A C G C A T T T G A T C C T A A T A A G G C G G T G T A G C A T G A C G C A A A C T C T G T T A G C G A T T G A A A A T T T G T C G G T G G G T T T T C G C C A'>,\n",
              " <tf.Tensor: shape=(), dtype=int32, numpy=1>)"
            ]
          },
          "metadata": {
            "tags": []
          },
          "execution_count": 8
        }
      ]
    },
    {
      "cell_type": "code",
      "metadata": {
        "id": "krNrCcl-Q2JH"
      },
      "source": [
        "vectorize_layer = TextVectorization(output_mode='int')\n"
      ],
      "execution_count": 9,
      "outputs": []
    },
    {
      "cell_type": "code",
      "metadata": {
        "id": "XxfiLA0MRx-5"
      },
      "source": [
        "train_text = raw_train_ds.map(lambda x, y: x)\n",
        "vectorize_layer.adapt(train_text)\n",
        "vectorize_layer.set_vocabulary(vocab=np.asarray(['a', 'c', 't', 'g', 'n']))"
      ],
      "execution_count": 10,
      "outputs": []
    },
    {
      "cell_type": "code",
      "metadata": {
        "colab": {
          "base_uri": "https://localhost:8080/"
        },
        "id": "P6oYrE1eHr66",
        "outputId": "3c1ab9e9-4b9b-45f7-9b67-dd97e832dd56"
      },
      "source": [
        "vectorize_layer.get_vocabulary()"
      ],
      "execution_count": 11,
      "outputs": [
        {
          "output_type": "execute_result",
          "data": {
            "text/plain": [
              "['', '[UNK]', 'a', 'c', 't', 'g', 'n']"
            ]
          },
          "metadata": {
            "tags": []
          },
          "execution_count": 11
        }
      ]
    },
    {
      "cell_type": "code",
      "metadata": {
        "id": "MlJsjlxlSJ8a"
      },
      "source": [
        "def vectorize_text(text, label):\n",
        "  text = tf.expand_dims(text, -1)\n",
        "  return vectorize_layer(text)-2, label"
      ],
      "execution_count": 12,
      "outputs": []
    },
    {
      "cell_type": "code",
      "metadata": {
        "id": "YfpUlVPua_op",
        "colab": {
          "base_uri": "https://localhost:8080/"
        },
        "outputId": "c1e86a09-ef2e-45f2-8829-53fdcbc3edb4"
      },
      "source": [
        "text_batch[0], label_batch[0]"
      ],
      "execution_count": 13,
      "outputs": [
        {
          "output_type": "execute_result",
          "data": {
            "text/plain": [
              "(<tf.Tensor: shape=(), dtype=string, numpy=b'G G G A T C A C C G C C T T C T T G T C G G T G G C G A T A T T A T T G T C T T T G C T G A T C T T T A T T G G T G A A G C C G T C C G C G A C G C A T T T G A T C C T A A T A A G G C G G T G T A G C A T G A C G C A A A C T C T G T T A G C G A T T G A A A A T T T G T C G G T G G G T T T T C G C C A'>,\n",
              " <tf.Tensor: shape=(), dtype=int32, numpy=1>)"
            ]
          },
          "metadata": {
            "tags": []
          },
          "execution_count": 13
        }
      ]
    },
    {
      "cell_type": "code",
      "metadata": {
        "id": "uRZ-Iyz4bBOD",
        "colab": {
          "base_uri": "https://localhost:8080/"
        },
        "outputId": "816f7111-5510-4fb7-c8f1-f15c3a049011"
      },
      "source": [
        "first_review, first_label = text_batch[0], label_batch[0]\n",
        "vectorize_text(first_review, first_label)"
      ],
      "execution_count": 14,
      "outputs": [
        {
          "output_type": "execute_result",
          "data": {
            "text/plain": [
              "(<tf.Tensor: shape=(1, 150), dtype=int64, numpy=\n",
              " array([[3, 3, 3, 0, 2, 1, 0, 1, 1, 3, 1, 1, 2, 2, 1, 2, 2, 3, 2, 1, 3, 3,\n",
              "         2, 3, 3, 1, 3, 0, 2, 0, 2, 2, 0, 2, 2, 3, 2, 1, 2, 2, 2, 3, 1, 2,\n",
              "         3, 0, 2, 1, 2, 2, 2, 0, 2, 2, 3, 3, 2, 3, 0, 0, 3, 1, 1, 3, 2, 1,\n",
              "         1, 3, 1, 3, 0, 1, 3, 1, 0, 2, 2, 2, 3, 0, 2, 1, 1, 2, 0, 0, 2, 0,\n",
              "         0, 3, 3, 1, 3, 3, 2, 3, 2, 0, 3, 1, 0, 2, 3, 0, 1, 3, 1, 0, 0, 0,\n",
              "         1, 2, 1, 2, 3, 2, 2, 0, 3, 1, 3, 0, 2, 2, 3, 0, 0, 0, 0, 2, 2, 2,\n",
              "         3, 2, 1, 3, 3, 2, 3, 3, 3, 2, 2, 2, 2, 1, 3, 1, 1, 0]])>,\n",
              " <tf.Tensor: shape=(), dtype=int32, numpy=1>)"
            ]
          },
          "metadata": {
            "tags": []
          },
          "execution_count": 14
        }
      ]
    },
    {
      "cell_type": "code",
      "metadata": {
        "id": "Kgr2YZotdz18"
      },
      "source": [
        "train_ds = raw_train_ds.map(vectorize_text)\n",
        "valid_ds = raw_valid_ds.map(vectorize_text)\n",
        "test_ds =  raw_test_ds.map(vectorize_text)"
      ],
      "execution_count": 15,
      "outputs": []
    },
    {
      "cell_type": "markdown",
      "metadata": {
        "id": "eMEDEoL_h5RD"
      },
      "source": [
        "## Model training"
      ]
    },
    {
      "cell_type": "code",
      "metadata": {
        "id": "m5P0A9wVbQl2"
      },
      "source": [
        "# one-hot encoding\n",
        "onehot_layer = keras.layers.Lambda(lambda x: tf.one_hot(tf.cast(x,'int64'), 4))"
      ],
      "execution_count": 16,
      "outputs": []
    },
    {
      "cell_type": "code",
      "metadata": {
        "colab": {
          "base_uri": "https://localhost:8080/"
        },
        "id": "Gf-jsHMbAomv",
        "outputId": "3e071df5-ce06-4eaa-d80f-33b67f3a9617"
      },
      "source": [
        "onehot_layer([-1,0,1,2,3,4])"
      ],
      "execution_count": 19,
      "outputs": [
        {
          "output_type": "execute_result",
          "data": {
            "text/plain": [
              "<tf.Tensor: shape=(6, 4), dtype=float32, numpy=\n",
              "array([[0., 0., 0., 0.],\n",
              "       [1., 0., 0., 0.],\n",
              "       [0., 1., 0., 0.],\n",
              "       [0., 0., 1., 0.],\n",
              "       [0., 0., 0., 1.],\n",
              "       [0., 0., 0., 0.]], dtype=float32)>"
            ]
          },
          "metadata": {
            "tags": []
          },
          "execution_count": 19
        }
      ]
    },
    {
      "cell_type": "code",
      "metadata": {
        "id": "qWEUcqBXcecr"
      },
      "source": [
        "model_type = \"LSTM\"\n",
        "\n",
        "if model_type == \"LSTM\":\n",
        "    model = tf.keras.Sequential([\n",
        "          onehot_layer,\n",
        "          keras.layers.LSTM(128, return_sequences=True),\n",
        "          keras.layers.Dropout(0.3),\n",
        "          keras.layers.LSTM(128, return_sequences=False),\n",
        "          keras.layers.Dropout(0.3),\n",
        "          keras.layers.Dense(1)])                     \n",
        "else:\n",
        "    model = tf.keras.Sequential([\n",
        "        onehot_layer,\n",
        "        keras.layers.Conv1D(32, kernel_size=8, data_format='channels_last', activation='relu'),\n",
        "        keras.layers.BatchNormalization(),\n",
        "        keras.layers.MaxPooling1D(),\n",
        "        keras.layers.Conv1D(16, kernel_size=8, data_format='channels_last', activation='relu'),\n",
        "        keras.layers.BatchNormalization(),\n",
        "        keras.layers.MaxPooling1D(),\n",
        "        keras.layers.Conv1D(4, kernel_size=8, data_format='channels_last', activation='relu'),\n",
        "        keras.layers.BatchNormalization(),\n",
        "        keras.layers.MaxPooling1D(),\n",
        "        keras.layers.Dropout(0.3),\n",
        "        keras.layers.GlobalAveragePooling1D(),\n",
        "        keras.layers.Dense(1)])"
      ],
      "execution_count": 49,
      "outputs": []
    },
    {
      "cell_type": "code",
      "metadata": {
        "id": "J86X_OH-dUV2"
      },
      "source": [
        "model.compile(loss=keras.losses.BinaryCrossentropy(from_logits=True),\n",
        "              optimizer='adam',\n",
        "              metrics=tf.metrics.BinaryAccuracy(threshold=0.0))"
      ],
      "execution_count": 50,
      "outputs": []
    },
    {
      "cell_type": "code",
      "metadata": {
        "id": "CBIvfsEsddtL",
        "colab": {
          "base_uri": "https://localhost:8080/"
        },
        "outputId": "7a6dcecb-4837-497e-a9ea-883c083318b5"
      },
      "source": [
        "epochs = 10\n",
        "history = model.fit(\n",
        "    train_ds,\n",
        "    epochs=epochs,\n",
        "    validation_data = valid_ds)"
      ],
      "execution_count": 51,
      "outputs": [
        {
          "output_type": "stream",
          "text": [
            "Epoch 1/10\n",
            "107/107 [==============================] - 4s 34ms/step - loss: 0.6962 - binary_accuracy: 0.5353 - val_loss: 0.6951 - val_binary_accuracy: 0.5000\n",
            "Epoch 2/10\n",
            "107/107 [==============================] - 3s 32ms/step - loss: 0.6979 - binary_accuracy: 0.5110 - val_loss: 0.6906 - val_binary_accuracy: 0.5493\n",
            "Epoch 3/10\n",
            "107/107 [==============================] - 3s 32ms/step - loss: 0.6862 - binary_accuracy: 0.5466 - val_loss: 0.7241 - val_binary_accuracy: 0.5813\n",
            "Epoch 4/10\n",
            "107/107 [==============================] - 3s 32ms/step - loss: 0.6271 - binary_accuracy: 0.6672 - val_loss: 0.5246 - val_binary_accuracy: 0.7613\n",
            "Epoch 5/10\n",
            "107/107 [==============================] - 3s 33ms/step - loss: 0.5112 - binary_accuracy: 0.7675 - val_loss: 0.5352 - val_binary_accuracy: 0.7467\n",
            "Epoch 6/10\n",
            "107/107 [==============================] - 3s 32ms/step - loss: 0.4706 - binary_accuracy: 0.7866 - val_loss: 0.4869 - val_binary_accuracy: 0.7773\n",
            "Epoch 7/10\n",
            "107/107 [==============================] - 3s 32ms/step - loss: 0.4540 - binary_accuracy: 0.8021 - val_loss: 0.4102 - val_binary_accuracy: 0.8147\n",
            "Epoch 8/10\n",
            "107/107 [==============================] - 3s 32ms/step - loss: 0.4472 - binary_accuracy: 0.8058 - val_loss: 0.4563 - val_binary_accuracy: 0.7947\n",
            "Epoch 9/10\n",
            "107/107 [==============================] - 3s 32ms/step - loss: 0.4269 - binary_accuracy: 0.8106 - val_loss: 0.3925 - val_binary_accuracy: 0.8253\n",
            "Epoch 10/10\n",
            "107/107 [==============================] - 3s 33ms/step - loss: 0.3960 - binary_accuracy: 0.8271 - val_loss: 0.3408 - val_binary_accuracy: 0.8613\n"
          ],
          "name": "stdout"
        }
      ]
    },
    {
      "cell_type": "code",
      "metadata": {
        "id": "MMf87Ikodrma",
        "colab": {
          "base_uri": "https://localhost:8080/"
        },
        "outputId": "7d912c68-ba3f-4638-86d4-ddefb20f281e"
      },
      "source": [
        "model.evaluate(test_ds)"
      ],
      "execution_count": null,
      "outputs": [
        {
          "output_type": "stream",
          "text": [
            "13/13 [==============================] - 0s 10ms/step - loss: 0.6834 - binary_accuracy: 0.5570\n"
          ],
          "name": "stdout"
        },
        {
          "output_type": "execute_result",
          "data": {
            "text/plain": [
              "[0.6833918690681458, 0.5569813251495361]"
            ]
          },
          "metadata": {
            "tags": []
          },
          "execution_count": 47
        }
      ]
    }
  ]
}